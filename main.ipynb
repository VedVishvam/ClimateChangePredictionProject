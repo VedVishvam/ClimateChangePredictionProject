{
 "cells": [
  {
   "cell_type": "markdown",
   "metadata": {},
   "source": [
    "# Climate Change Prediction\n",
    "Main Production-ready code."
   ]
  },
  {
   "cell_type": "code",
   "execution_count": 8,
   "metadata": {},
   "outputs": [],
   "source": [
    "import numpy as np                                # Load the numpy for more advanced mathamatics\n",
    "import pandas as pd                               # Load the pandas for preprocessing data\n",
    "import matplotlib.pyplot as plt                   # Load Matplotlib for graphying and plotting\n",
    "import copy                                       # Load copy for deep copying data\n",
    "from sklearn.linear_model import LinearRegression # Load scikit learn for the Linear Regression model\n",
    "from sklearn.model_selection import train_test_split"
   ]
  },
  {
   "cell_type": "markdown",
   "metadata": {},
   "source": [
    "# Data PreProcessing"
   ]
  },
  {
   "cell_type": "code",
   "execution_count": 9,
   "metadata": {},
   "outputs": [
    {
     "data": {
      "text/html": [
       "<div>\n",
       "<style scoped>\n",
       "    .dataframe tbody tr th:only-of-type {\n",
       "        vertical-align: middle;\n",
       "    }\n",
       "\n",
       "    .dataframe tbody tr th {\n",
       "        vertical-align: top;\n",
       "    }\n",
       "\n",
       "    .dataframe thead th {\n",
       "        text-align: right;\n",
       "    }\n",
       "</style>\n",
       "<table border=\"1\" class=\"dataframe\">\n",
       "  <thead>\n",
       "    <tr style=\"text-align: right;\">\n",
       "      <th></th>\n",
       "      <th>Year</th>\n",
       "      <th>Jan</th>\n",
       "      <th>Feb</th>\n",
       "      <th>Mar</th>\n",
       "      <th>Apr</th>\n",
       "      <th>May</th>\n",
       "      <th>Jun</th>\n",
       "      <th>Jul</th>\n",
       "      <th>Aug</th>\n",
       "      <th>Sep</th>\n",
       "      <th>Oct</th>\n",
       "      <th>Nov</th>\n",
       "      <th>Dec</th>\n",
       "      <th>J-D</th>\n",
       "      <th>D-N</th>\n",
       "      <th>DJF</th>\n",
       "      <th>MAM</th>\n",
       "      <th>JJA</th>\n",
       "    </tr>\n",
       "  </thead>\n",
       "  <tbody>\n",
       "    <tr>\n",
       "      <th>1880</th>\n",
       "      <td>-0.20</td>\n",
       "      <td>-0.26</td>\n",
       "      <td>-0.09</td>\n",
       "      <td>-0.17</td>\n",
       "      <td>-0.10</td>\n",
       "      <td>-0.22</td>\n",
       "      <td>-0.20</td>\n",
       "      <td>-0.10</td>\n",
       "      <td>-0.15</td>\n",
       "      <td>-0.23</td>\n",
       "      <td>-0.22</td>\n",
       "      <td>-0.19</td>\n",
       "      <td>-0.18</td>\n",
       "      <td>-0.19</td>\n",
       "      <td>-0.19</td>\n",
       "      <td>-0.12</td>\n",
       "      <td>-0.17</td>\n",
       "      <td>-0.20</td>\n",
       "    </tr>\n",
       "    <tr>\n",
       "      <th>1881</th>\n",
       "      <td>-0.20</td>\n",
       "      <td>-0.15</td>\n",
       "      <td>0.02</td>\n",
       "      <td>0.04</td>\n",
       "      <td>0.07</td>\n",
       "      <td>-0.19</td>\n",
       "      <td>0.01</td>\n",
       "      <td>-0.04</td>\n",
       "      <td>-0.16</td>\n",
       "      <td>-0.22</td>\n",
       "      <td>-0.19</td>\n",
       "      <td>-0.07</td>\n",
       "      <td>-0.09</td>\n",
       "      <td>-0.10</td>\n",
       "      <td>-0.18</td>\n",
       "      <td>0.04</td>\n",
       "      <td>-0.07</td>\n",
       "      <td>-0.19</td>\n",
       "    </tr>\n",
       "    <tr>\n",
       "      <th>1882</th>\n",
       "      <td>0.16</td>\n",
       "      <td>0.14</td>\n",
       "      <td>0.04</td>\n",
       "      <td>-0.16</td>\n",
       "      <td>-0.14</td>\n",
       "      <td>-0.22</td>\n",
       "      <td>-0.16</td>\n",
       "      <td>-0.07</td>\n",
       "      <td>-0.14</td>\n",
       "      <td>-0.24</td>\n",
       "      <td>-0.17</td>\n",
       "      <td>-0.36</td>\n",
       "      <td>-0.11</td>\n",
       "      <td>-0.09</td>\n",
       "      <td>0.07</td>\n",
       "      <td>-0.08</td>\n",
       "      <td>-0.15</td>\n",
       "      <td>-0.18</td>\n",
       "    </tr>\n",
       "    <tr>\n",
       "      <th>1883</th>\n",
       "      <td>-0.29</td>\n",
       "      <td>-0.37</td>\n",
       "      <td>-0.12</td>\n",
       "      <td>-0.18</td>\n",
       "      <td>-0.18</td>\n",
       "      <td>-0.07</td>\n",
       "      <td>-0.07</td>\n",
       "      <td>-0.14</td>\n",
       "      <td>-0.22</td>\n",
       "      <td>-0.12</td>\n",
       "      <td>-0.24</td>\n",
       "      <td>-0.11</td>\n",
       "      <td>-0.18</td>\n",
       "      <td>-0.20</td>\n",
       "      <td>-0.34</td>\n",
       "      <td>-0.16</td>\n",
       "      <td>-0.10</td>\n",
       "      <td>-0.19</td>\n",
       "    </tr>\n",
       "    <tr>\n",
       "      <th>1884</th>\n",
       "      <td>-0.13</td>\n",
       "      <td>-0.08</td>\n",
       "      <td>-0.37</td>\n",
       "      <td>-0.40</td>\n",
       "      <td>-0.34</td>\n",
       "      <td>-0.35</td>\n",
       "      <td>-0.31</td>\n",
       "      <td>-0.28</td>\n",
       "      <td>-0.27</td>\n",
       "      <td>-0.25</td>\n",
       "      <td>-0.34</td>\n",
       "      <td>-0.31</td>\n",
       "      <td>-0.29</td>\n",
       "      <td>-0.27</td>\n",
       "      <td>-0.11</td>\n",
       "      <td>-0.37</td>\n",
       "      <td>-0.31</td>\n",
       "      <td>-0.29</td>\n",
       "    </tr>\n",
       "  </tbody>\n",
       "</table>\n",
       "</div>"
      ],
      "text/plain": [
       "      Year   Jan   Feb   Mar   Apr   May  ...   Dec   J-D   D-N   DJF   MAM   JJA\n",
       "1880 -0.20 -0.26 -0.09 -0.17 -0.10 -0.22  ... -0.18 -0.19 -0.19 -0.12 -0.17 -0.20\n",
       "1881 -0.20 -0.15  0.02  0.04  0.07 -0.19  ... -0.09 -0.10 -0.18  0.04 -0.07 -0.19\n",
       "1882  0.16  0.14  0.04 -0.16 -0.14 -0.22  ... -0.11 -0.09  0.07 -0.08 -0.15 -0.18\n",
       "1883 -0.29 -0.37 -0.12 -0.18 -0.18 -0.07  ... -0.18 -0.20 -0.34 -0.16 -0.10 -0.19\n",
       "1884 -0.13 -0.08 -0.37 -0.40 -0.34 -0.35  ... -0.29 -0.27 -0.11 -0.37 -0.31 -0.29\n",
       "\n",
       "[5 rows x 18 columns]"
      ]
     },
     "execution_count": 9,
     "metadata": {},
     "output_type": "execute_result"
    }
   ],
   "source": [
    "df = pd.read_csv('data.csv')    # Load the data.csv\n",
    "df.head()                       # Show just the head of the data.csv"
   ]
  },
  {
   "cell_type": "code",
   "execution_count": null,
   "metadata": {},
   "outputs": [],
   "source": [
    "df = df.drop(['J-D', 'D-N', 'DJF', 'MAM', 'JJA'], axis=1)    # Drop all the unused columns.\n",
    "df.head()                                                    # Show just the head of the data.csv"
   ]
  },
  {
   "cell_type": "markdown",
   "metadata": {},
   "source": [
    "Plot all the data columns"
   ]
  },
  {
   "cell_type": "code",
   "execution_count": null,
   "metadata": {},
   "outputs": [],
   "source": [
    "columns = df.columns\n",
    "for i in columns:\n",
    "    plt.figure()\n",
    "    plt.plot(df[i])\n",
    "    plt.title(f\"{i}\")\n",
    "    # Run this if you don't have all the charts for months-> plt.savefig(f\"chart_{i}.png\")"
   ]
  },
  {
   "cell_type": "markdown",
   "metadata": {},
   "source": [
    "Data Spliting : 80% -> Training | 20% -> Testing"
   ]
  },
  {
   "cell_type": "code",
   "execution_count": 15,
   "metadata": {},
   "outputs": [],
   "source": [
    "train_df, test_df= train_test_split(df, test_size=0.2, shuffle=False) # Split the data"
   ]
  },
  {
   "cell_type": "markdown",
   "metadata": {},
   "source": [
    "Create X and Y test and training.\n"
   ]
  },
  {
   "cell_type": "code",
   "execution_count": 19,
   "metadata": {},
   "outputs": [],
   "source": [
    "X_train = train_df.copy(deep=True)\n",
    "Y_train = train_df.copy(deep=True)\n",
    "X_test = test_df.copy(deep=True)\n",
    "Y_test = test_df.copy(deep=True)"
   ]
  }
 ],
 "metadata": {
  "kernelspec": {
   "display_name": ".venv",
   "language": "python",
   "name": "python3"
  },
  "language_info": {
   "codemirror_mode": {
    "name": "ipython",
    "version": 3
   },
   "file_extension": ".py",
   "mimetype": "text/x-python",
   "name": "python",
   "nbconvert_exporter": "python",
   "pygments_lexer": "ipython3",
   "version": "3.12.0"
  }
 },
 "nbformat": 4,
 "nbformat_minor": 2
}
