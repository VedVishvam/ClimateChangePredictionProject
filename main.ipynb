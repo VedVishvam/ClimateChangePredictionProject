{
 "cells": [
  {
   "cell_type": "markdown",
   "metadata": {},
   "source": [
    "# Climate Change Prediction\n",
    "This is main code of the of Climate Change Prediction System which will predict the temperature in the future and predict how much it will change by. This is not a 100% accurate so use at your own risk."
   ]
  },
  {
   "cell_type": "markdown",
   "metadata": {},
   "source": [
    "Add all the necessary libraries"
   ]
  },
  {
   "cell_type": "code",
   "execution_count": 3,
   "metadata": {},
   "outputs": [],
   "source": [
    "import numpy as np\n",
    "import pandas as pd # Pandas are Fluffy\n",
    "import matplotlib as plot\n",
    "from sklearn.linear_model import LinearRegression\n",
    "import copy as cp"
   ]
  },
  {
   "cell_type": "markdown",
   "metadata": {},
   "source": [
    "Creating a varible called data and importing the data from the data.csv."
   ]
  },
  {
   "cell_type": "code",
   "execution_count": 7,
   "metadata": {},
   "outputs": [
    {
     "name": "stdout",
     "output_type": "stream",
     "text": [
      "   Year  Annual Anomaly  Annual Unc.  Five-year Anomaly  Five-year  Unc.\n",
      "0  1750          -1.126        0.839                NaN        NaN   NaN\n",
      "1  1751          -1.335        0.848                NaN        NaN   NaN\n",
      "2  1753          -0.801        0.865                NaN        NaN   NaN\n",
      "3  1754          -0.361        1.086                NaN        NaN   NaN\n",
      "4  1755          -0.631        1.049             -0.458      0.538   NaN\n",
      "     Year  Annual Anomaly  Annual Unc.  Five-year Anomaly  Five-year  Unc.\n",
      "268  2019           1.337        0.051              1.302      0.038   NaN\n",
      "269  2020           1.495        0.049              1.287      0.044   NaN\n",
      "270  2021           1.235        0.035              1.384      0.047   NaN\n",
      "271  2022           1.226        0.056                NaN        NaN   NaN\n",
      "272  2023           1.627        0.058                NaN        NaN   NaN\n"
     ]
    }
   ],
   "source": [
    "df = pd.read_csv(\"data.csv\")\n",
    "print(df.head())\n",
    "print(df.tail())"
   ]
  }
 ],
 "metadata": {
  "kernelspec": {
   "display_name": ".env",
   "language": "python",
   "name": "python3"
  },
  "language_info": {
   "codemirror_mode": {
    "name": "ipython",
    "version": 3
   },
   "file_extension": ".py",
   "mimetype": "text/x-python",
   "name": "python",
   "nbconvert_exporter": "python",
   "pygments_lexer": "ipython3",
   "version": "3.12.0"
  }
 },
 "nbformat": 4,
 "nbformat_minor": 2
}
