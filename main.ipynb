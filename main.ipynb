{
 "cells": [
  {
   "cell_type": "markdown",
   "metadata": {},
   "source": [
    "# Climate Change Prediction\n",
    "------------------------------\n",
    "This is main code of the of Climate Change Prediction System which will predict the temperature in the future and predict how much it will change by. This is not a 100% accurate so use at your own risk."
   ]
  },
  {
   "cell_type": "markdown",
   "metadata": {},
   "source": [
    "---------------------\n",
    "# Add all the necessary libraries"
   ]
  },
  {
   "cell_type": "code",
   "execution_count": null,
   "metadata": {},
   "outputs": [],
   "source": [
    "import numpy as np\n",
    "import pandas as pd # Pandas are Fluffy\n",
    "import matplotlib.pyplot as plt\n",
    "from sklearn.linear_model import LinearRegression\n",
    "from sklearn.preprocessing import StandardScaler, LabelEncoder\n",
    "import copy"
   ]
  },
  {
   "cell_type": "markdown",
   "metadata": {},
   "source": [
    "---------------------------\n",
    "Source : GISTEMP Team, 2024: GISS Surface Temperature Analysis (GISTEMP), version 4. NASA Goddard Institute for Space Studies. Dataset accessed 20YY-MM-DD at https://data.giss.nasa.gov/gistemp/."
   ]
  },
  {
   "cell_type": "markdown",
   "metadata": {},
   "source": [
    "-------------------------------------------\n",
    "Load the CSV data."
   ]
  },
  {
   "cell_type": "code",
   "execution_count": null,
   "metadata": {},
   "outputs": [],
   "source": [
    "df = pd.read_csv(\"data.csv\")\n",
    "df.head()"
   ]
  },
  {
   "cell_type": "markdown",
   "metadata": {},
   "source": [
    "---------------------------\n",
    "Split the dataset into training, validation, and testing dataset for the x axis."
   ]
  },
  {
   "cell_type": "code",
   "execution_count": null,
   "metadata": {},
   "outputs": [],
   "source": [
    "train, val, test = np.split(df.sample(frac=1), [int(0.6*len(df)), int(0.8*len(df))])"
   ]
  },
  {
   "cell_type": "markdown",
   "metadata": {},
   "source": [
    "\n",
    "\n",
    "---------------------------\n",
    "Create a function that will get your x and y labels. It also checks if there is a no x value passed and if there is no x value passed then \n",
    "use all the columns. If not then use the one column specified by programer.\n",
    "\n"
   ]
  },
  {
   "cell_type": "code",
   "execution_count": null,
   "metadata": {},
   "outputs": [],
   "source": [
    "# Create a function that will get the x and y labels\n",
    "def get_xy(dataframe, y_label, x_labels=None):\n",
    "    dataframe = copy.deepcopy(dataframe)\n",
    "    if x_labels is None:\n",
    "        X = dataframe[[c for c in dataframe.columns if c != y_label ]].values\n",
    "    else:\n",
    "        if len(x_labels) == 1:\n",
    "            X = dataframe[x_labels[0]].values.reshape(-1, 1)\n",
    "        else:\n",
    "            X = dataframe[x_labels].values\n",
    "\n",
    "    y = dataframe[y_label].values.reshape(-1, 1)\n",
    "    data = np.hstack((X, y))\n",
    "\n",
    "    return data, X, y"
   ]
  },
  {
   "cell_type": "markdown",
   "metadata": {},
   "source": [
    "---------------------------\n",
    "Make a training, testing, and validating for X and y."
   ]
  },
  {
   "cell_type": "code",
   "execution_count": null,
   "metadata": {},
   "outputs": [],
   "source": [
    "_, X_train, Y_train = get_xy(train, \"Year\", x_labels=df.columns[1:])\n",
    "_, X_test, Y_test = get_xy(test, \"Year\", x_labels=df.columns[1:])\n",
    "_, X_validate, Y_validate = get_xy(val, \"Year\", x_labels=df.columns[1:])"
   ]
  },
  {
   "cell_type": "markdown",
   "metadata": {},
   "source": [
    "Make the linear regressor and fit it with the training dataset."
   ]
  },
  {
   "cell_type": "code",
   "execution_count": null,
   "metadata": {},
   "outputs": [],
   "source": [
    "reg_model = LinearRegression()\n",
    "reg_model.fit(X_train, Y_train)"
   ]
  },
  {
   "cell_type": "markdown",
   "metadata": {},
   "source": [
    "Score it so I see the accuracy."
   ]
  },
  {
   "cell_type": "code",
   "execution_count": null,
   "metadata": {},
   "outputs": [],
   "source": [
    "reg_model.score(X=X_test, y=Y_test)"
   ]
  },
  {
   "cell_type": "markdown",
   "metadata": {},
   "source": [
    "Plot the best line of Fit"
   ]
  },
  {
   "cell_type": "code",
   "execution_count": null,
   "metadata": {},
   "outputs": [],
   "source": [
    "y_predictions = reg_model.predict(X_test)"
   ]
  },
  {
   "cell_type": "code",
   "execution_count": null,
   "metadata": {},
   "outputs": [],
   "source": [
    "x_range = np.linspace(X_train.min(), X_train.max(), 20) \n",
    "# Assuming you want to use 17 features for prediction\n",
    "# Create a test input array with 17 features for each point in x_range\n",
    "# Here we duplicate x_range 17 times to match the expected input shape\n",
    "x_range_17_features = np.tile(x_range.reshape(-1, 1), (1, 17))\n",
    "\n",
    "\n",
    "# Predict with 17 features\n",
    "y_fit = reg_model.predict(x_range_17_features)\n",
    "plt.scatter(Y_test, y_predictions)\n",
    "plt.plot(y_fit)\n",
    "plt.show()"
   ]
  }
 ],
 "metadata": {
  "kernelspec": {
   "display_name": ".venv",
   "language": "python",
   "name": "python3"
  },
  "language_info": {
   "codemirror_mode": {
    "name": "ipython",
    "version": 3
   },
   "file_extension": ".py",
   "mimetype": "text/x-python",
   "name": "python",
   "nbconvert_exporter": "python",
   "pygments_lexer": "ipython3",
   "version": "3.12.0"
  }
 },
 "nbformat": 4,
 "nbformat_minor": 2
}
